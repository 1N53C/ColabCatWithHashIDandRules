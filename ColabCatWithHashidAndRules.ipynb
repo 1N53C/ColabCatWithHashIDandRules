{
  "nbformat": 4,
  "nbformat_minor": 0,
  "metadata": {
    "colab": {
      "name": "ColabCatWithHashidAndRules.ipynb",
      "provenance": [],
      "collapsed_sections": [],
      "authorship_tag": "ABX9TyPMAB23UHVQ+9NeEydt3O42",
      "include_colab_link": true
    },
    "kernelspec": {
      "name": "python3",
      "display_name": "Python 3"
    },
    "accelerator": "GPU"
  },
  "cells": [
    {
      "cell_type": "markdown",
      "metadata": {
        "id": "view-in-github",
        "colab_type": "text"
      },
      "source": [
        "<a href=\"https://colab.research.google.com/github/1N53C/ColabCatWithHashIDandRules/blob/master/ColabCatWithHashidAndRules.ipynb\" target=\"_parent\"><img src=\"https://colab.research.google.com/assets/colab-badge.svg\" alt=\"Open In Colab\"/></a>"
      ]
    },
    {
      "cell_type": "code",
      "metadata": {
        "id": "AaSAwrmKj_VA",
        "colab_type": "code",
        "colab": {
          "base_uri": "https://localhost:8080/",
          "height": 272
        },
        "outputId": "561726d8-cb0f-40c7-d085-b108f6baf13d"
      },
      "source": [
        "# Before you run this notepad, create a directory called \"hashes\" in the root of your Google drive and store a hashfile named \"hash\"\n",
        "\n",
        "# mount Google Drive\n",
        "from google.colab import drive\n",
        "drive.mount('/content/drive/', force_remount=True)\n",
        "\n",
        "# create directories\n",
        "!mkdir -p /root/rules /root/wordlists\n",
        "\n",
        "!ls /content/drive/My\\ Drive/hashcat/\n",
        "!ln -s /content/drive/My\\ Drive/hashcat /root/hashcat\n",
        "\n",
        "# get rules list \n",
        "!wget -P /root/rules \"https://raw.githubusercontent.com/stealthsploit/Optimised-hashcat-Rule/master/OneRuleToRuleThemAll.rule\"\n",
        "\n",
        "# clone the SecLists repository\n",
        "!git clone https://github.com/danielmiessler/SecLists /root/wordlists/SecLists\n"
      ],
      "execution_count": 14,
      "outputs": [
        {
          "output_type": "stream",
          "text": [
            "Mounted at /content/drive/\n",
            "hashcat  hashes\n",
            "ln: failed to create symbolic link '/root/hashcat/hashcat': File exists\n",
            "--2020-09-15 19:42:53--  https://raw.githubusercontent.com/stealthsploit/Optimised-hashcat-Rule/master/OneRuleToRuleThemAll.rule\n",
            "Resolving raw.githubusercontent.com (raw.githubusercontent.com)... 151.101.0.133, 151.101.64.133, 151.101.128.133, ...\n",
            "Connecting to raw.githubusercontent.com (raw.githubusercontent.com)|151.101.0.133|:443... connected.\n",
            "HTTP request sent, awaiting response... 200 OK\n",
            "Length: 402772 (393K) [text/plain]\n",
            "Saving to: ‘/root/rules/OneRuleToRuleThemAll.rule.2’\n",
            "\n",
            "OneRuleToRuleThemAl 100%[===================>] 393.33K  --.-KB/s    in 0.02s   \n",
            "\n",
            "2020-09-15 19:42:53 (18.0 MB/s) - ‘/root/rules/OneRuleToRuleThemAll.rule.2’ saved [402772/402772]\n",
            "\n",
            "fatal: destination path '/root/wordlists/SecLists' already exists and is not an empty directory.\n"
          ],
          "name": "stdout"
        }
      ]
    },
    {
      "cell_type": "code",
      "metadata": {
        "id": "lVrjBk34_14p",
        "colab_type": "code",
        "colab": {
          "base_uri": "https://localhost:8080/",
          "height": 986
        },
        "outputId": "81f68a1e-0f01-4b7b-84ef-451f2255d165"
      },
      "source": [
        "# install hashcat\n",
        "!apt install cmake build-essential -y\n",
        "!apt install checkinstall git -y\n",
        "!git clone https://github.com/hashcat/hashcat.git\n",
        "!cd hashcat && git submodule update --init && make && make install"
      ],
      "execution_count": 15,
      "outputs": [
        {
          "output_type": "stream",
          "text": [
            "Reading package lists... Done\n",
            "Building dependency tree       \n",
            "Reading state information... Done\n",
            "build-essential is already the newest version (12.4ubuntu1).\n",
            "cmake is already the newest version (3.10.2-1ubuntu2.18.04.1).\n",
            "0 upgraded, 0 newly installed, 0 to remove and 11 not upgraded.\n",
            "Reading package lists... Done\n",
            "Building dependency tree       \n",
            "Reading state information... Done\n",
            "checkinstall is already the newest version (1.6.2-4ubuntu2).\n",
            "git is already the newest version (1:2.17.1-1ubuntu0.7).\n",
            "0 upgraded, 0 newly installed, 0 to remove and 11 not upgraded.\n",
            "fatal: destination path 'hashcat' already exists and is not an empty directory.\n",
            "make: Nothing to be done for 'default'.\n",
            "install -m 755 -d                                                    /usr/local/share\n",
            "install -m 755 -d                                                    /usr/local/bin\n",
            "install -m 755 hashcat                                   /usr/local/bin/\n",
            "install -m 755 -d                                                    /usr/local/share/doc/hashcat\n",
            "install -m 755 -d                                                    /usr/local/share/hashcat\n",
            "install -m 755 -d                                                    /usr/local/share/doc/hashcat/charsets\n",
            "install -m 644 hashcat.hctune                                        /usr/local/share/hashcat/\n",
            "install -m 755 -d                                                    /usr/local/share/doc/hashcat/docs\n",
            "install -m 644 hashcat.hcstat2                                       /usr/local/share/hashcat/\n",
            "install -m 755 -d                                                    /usr/local/share/doc/hashcat/layouts\n",
            "install -m 755 -d                                                    /usr/local/share/hashcat/OpenCL\n",
            "install -m 755 -d                                                    /usr/local/share/hashcat/modules\n",
            "install -m 755 -d                                                    /usr/local/share/doc/hashcat/masks\n",
            "find OpenCL/   -mindepth 1 -type d -execdir install -m 755 -d     /usr/local/share/hashcat/OpenCL/{} \\;\n",
            "find modules/  -mindepth 1 -type d -execdir install -m 755 -d     /usr/local/share/hashcat/modules/{} \\;\n",
            "install -m 755 -d                                                    /usr/local/share/doc/hashcat/rules\n",
            "install -m 755 -d                                                    /usr/local/share/doc/hashcat/extra\n",
            "install -m 755 -d                                                    /usr/local/share/doc/hashcat/extra/tab_completion\n",
            "find OpenCL/   -mindepth 1 -type f -execdir install -m 644 {}     /usr/local/share/hashcat/OpenCL/{} \\;\n",
            "install -m 644 example.dict                                          /usr/local/share/doc/hashcat/\n",
            "find modules/  -mindepth 1 -type f -execdir install -m 644 {}     /usr/local/share/hashcat/modules/{} \\;\n",
            "install -m 644 example0.hash                                         /usr/local/share/doc/hashcat/\n",
            "install -m 644 example400.hash                                       /usr/local/share/doc/hashcat/\n",
            "install -m 644 example500.hash                                       /usr/local/share/doc/hashcat/\n",
            "install -m 755 example0.sh                                           /usr/local/share/doc/hashcat/\n",
            "install -m 755 example400.sh                                         /usr/local/share/doc/hashcat/\n",
            "install -m 755 example500.sh                                         /usr/local/share/doc/hashcat/\n",
            "install -m 644 extra/tab_completion/hashcat.sh                       /usr/local/share/doc/hashcat/extra/tab_completion/\n",
            "install -m 644 extra/tab_completion/howto.txt                        /usr/local/share/doc/hashcat/extra/tab_completion/\n",
            "install -m 755 extra/tab_completion/install                          /usr/local/share/doc/hashcat/extra/tab_completion/\n",
            "find charsets/ -type d -exec install -m 755 -d                    /usr/local/share/doc/hashcat/{} \\;\n",
            "find charsets/ -type f -exec install -m 644 {}                    /usr/local/share/doc/hashcat/{} \\;\n",
            "find docs/     -type d -exec install -m 755 -d                    /usr/local/share/doc/hashcat/{} \\;\n",
            "find docs/     -type f -exec install -m 644 {}                    /usr/local/share/doc/hashcat/{} \\;\n",
            "find layouts/  -type d -exec install -m 755 -d                    /usr/local/share/doc/hashcat/{} \\;\n",
            "find layouts/  -type f -exec install -m 644 {}                    /usr/local/share/doc/hashcat/{} \\;\n",
            "find masks/    -type d -exec install -m 755 -d                    /usr/local/share/doc/hashcat/{} \\;\n",
            "find masks/    -type f -exec install -m 644 {}                    /usr/local/share/doc/hashcat/{} \\;\n",
            "find rules/    -type d -exec install -m 755 -d                    /usr/local/share/doc/hashcat/{} \\;\n",
            "find rules/    -type f -exec install -m 644 {}                    /usr/local/share/doc/hashcat/{} \\;\n",
            "sed -i 's/\\.\\/hashcat/hashcat/'                         /usr/local/share/doc/hashcat/example0.sh\n",
            "sed -i 's/\\.\\/hashcat/hashcat/'                         /usr/local/share/doc/hashcat/example400.sh\n",
            "sed -i 's/\\.\\/hashcat/hashcat/'                         /usr/local/share/doc/hashcat/example500.sh\n"
          ],
          "name": "stdout"
        }
      ]
    },
    {
      "cell_type": "code",
      "metadata": {
        "id": "7Dr9mjtW1wLp",
        "colab_type": "code",
        "colab": {
          "base_uri": "https://localhost:8080/",
          "height": 238
        },
        "outputId": "fbe50f34-48b7-4e7b-9b47-a33df8b3143b"
      },
      "source": [
        "# install hashid\n",
        "!rm -rf hashid\n",
        "!pip install hashid\n",
        "\n",
        "# Execute hashid for the saved hash to figure out the hash mode\n",
        "!hashid -m /root/hashcat/hashes/hash"
      ],
      "execution_count": 18,
      "outputs": [
        {
          "output_type": "stream",
          "text": [
            "Requirement already satisfied: hashid in /usr/local/lib/python3.6/dist-packages (3.1.4)\n",
            "--File '/root/hashcat/hashes/hash'--\n",
            "Analyzing '0cd26235da1ce86c4053617d48b5008f9c808fdf63a07b3eb3d61f131d358419'\n",
            "[+] Snefru-256 \n",
            "[+] SHA-256 [Hashcat Mode: 1400]\n",
            "[+] RIPEMD-256 \n",
            "[+] Haval-256 \n",
            "[+] GOST R 34.11-94 [Hashcat Mode: 6900]\n",
            "[+] GOST CryptoPro S-Box \n",
            "[+] SHA3-256 [Hashcat Mode: 5000]\n",
            "[+] Skein-256 \n",
            "[+] Skein-512(256) \n",
            "--End of file '/root/hashcat/hashes/hash'--"
          ],
          "name": "stdout"
        }
      ]
    },
    {
      "cell_type": "code",
      "metadata": {
        "id": "ZE-U7SUrBDsc",
        "colab_type": "code",
        "colab": {
          "base_uri": "https://localhost:8080/",
          "height": 1000
        },
        "outputId": "fc5db70e-ec06-498a-85ec-d463ae4452fc"
      },
      "source": [
        "# Enter the Hashcat Mode in the prompt and hit Enter\n",
        "hash_mode = int(input('Enter the matching Hashcat Mode from the hashid output above (number): '))\n",
        "\n",
        "# Executing the actual Hascat command\n",
        "!hashcat -m $hash_mode /root/hashcat/hashes/hash /root/wordlists/SecLists/Passwords/Leaked-Databases/rockyou-75.txt -r /root/rules/OneRuleToRuleThemAll.rule"
      ],
      "execution_count": 17,
      "outputs": [
        {
          "output_type": "stream",
          "text": [
            "Enter the matching Hash Mode from the hashid output above (number): 1400\n",
            "hashcat (v6.1.1-94-g8207af47) starting...\n",
            "\n",
            "\u001b[31mnvmlDeviceGetFanSpeed(): Not Supported\u001b[0m\n",
            "\n",
            "CUDA API (CUDA 10.1)\n",
            "====================\n",
            "* Device #1: Tesla T4, 14969/15079 MB, 40MCU\n",
            "\n",
            "OpenCL API (OpenCL 1.2 CUDA 10.1.152) - Platform #1 [NVIDIA Corporation]\n",
            "========================================================================\n",
            "* Device #2: Tesla T4, skipped\n",
            "\n",
            "Minimum password length supported by kernel: 0\n",
            "Maximum password length supported by kernel: 256\n",
            "\n",
            "\u001b[33mSkipping invalid or unsupported rule in file /root/rules/OneRuleToRuleThemAll.rule on line 8210: ^o^ą^Ă^o^t\u001b[0m\n",
            "\u001b[33mSkipping invalid or unsupported rule in file /root/rules/OneRuleToRuleThemAll.rule on line 42459: ^a^ą^Ă^e^s^a^r^t^n^o^c\u001b[0m\n",
            "Hashes: 1 digests; 1 unique digests, 1 unique salts\n",
            "Bitmaps: 16 bits, 65536 entries, 0x0000ffff mask, 262144 bytes, 5/13 rotates\n",
            "Rules: 52000\n",
            "\n",
            "Applicable optimizers applied:\n",
            "* Zero-Byte\n",
            "* Early-Skip\n",
            "* Not-Salted\n",
            "* Not-Iterated\n",
            "* Single-Hash\n",
            "* Single-Salt\n",
            "* Raw-Hash\n",
            "\n",
            "\u001b[33mATTENTION! Pure (unoptimized) backend kernels selected.\u001b[0m\n",
            "\u001b[33mUsing pure kernels enables cracking longer passwords but for the price of drastically reduced performance.\u001b[0m\n",
            "\u001b[33mIf you want to switch to optimized backend kernels, append -O to your commandline.\u001b[0m\n",
            "\u001b[33mSee the above message to find out about the exact limits.\u001b[0m\n",
            "\u001b[33m\u001b[0m\n",
            "Watchdog: Temperature abort trigger set to 90c\n",
            "\n",
            "Host memory required for this attack: 702 MB\n",
            "\n",
            "Dictionary cache built:\n",
            "* Filename..: /root/wordlists/SecLists/Passwords/Leaked-Databases/rockyou-75.txt\n",
            "* Passwords.: 59186\n",
            "* Bytes.....: 478936\n",
            "* Keyspace..: 3077672000\n",
            "* Runtime...: 0 secs\n",
            "\n",
            "\u001b[33mThe wordlist or mask that you are using is too small.\u001b[0m\n",
            "\u001b[33mThis means that hashcat cannot use the full parallel power of your device(s).\u001b[0m\n",
            "\u001b[33mUnless you supply more work, your cracking speed will drop.\u001b[0m\n",
            "\u001b[33mFor tips on supplying more work, see: https://hashcat.net/faq/morework\u001b[0m\n",
            "\u001b[33m\u001b[0m\n",
            "\u001b[33mApproaching final keyspace - workload adjusted.\u001b[0m\n",
            "\u001b[33m\u001b[0m\n",
            "0cd26235da1ce86c4053617d48b5008f9c808fdf63a07b3eb3d61f131d358419:administrator123\n",
            "                                                 \n",
            "Session..........: hashcat\n",
            "Status...........: Cracked\n",
            "Hash.Name........: SHA2-256\n",
            "Hash.Target......: 0cd26235da1ce86c4053617d48b5008f9c808fdf63a07b3eb3d...358419\n",
            "Time.Started.....: Tue Sep 15 19:43:44 2020 (1 sec)\n",
            "Time.Estimated...: Tue Sep 15 19:43:45 2020 (0 secs)\n",
            "Guess.Base.......: File (/root/wordlists/SecLists/Passwords/Leaked-Databases/rockyou-75.txt)\n",
            "Guess.Mod........: Rules (/root/rules/OneRuleToRuleThemAll.rule)\n",
            "Guess.Queue......: 1/1 (100.00%)\n",
            "Speed.#1.........:   970.7 MH/s (7.36ms) @ Accel:32 Loops:128 Thr:64 Vec:1\n",
            "Recovered........: 1/1 (100.00%) Digests\n",
            "Progress.........: 340911360/3077672000 (11.08%)\n",
            "Rejected.........: 0/340911360 (0.00%)\n",
            "Restore.Point....: 0/59186 (0.00%)\n",
            "Restore.Sub.#1...: Salt:0 Amplifier:5632-5760 Iteration:0-128\n",
            "Candidates.#1....: ulises123456 -> 17118\n",
            "Hardware.Mon.#1..: Temp: 44c Util: 96% Core:1320MHz Mem:5000MHz Bus:16\n",
            "\n",
            "Started: Tue Sep 15 19:43:43 2020\n",
            "Stopped: Tue Sep 15 19:43:45 2020\n"
          ],
          "name": "stdout"
        }
      ]
    }
  ]
}